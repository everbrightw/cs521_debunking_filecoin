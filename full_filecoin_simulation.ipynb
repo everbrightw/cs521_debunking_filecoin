{
 "cells": [
  {
   "cell_type": "markdown",
   "id": "d08bd273",
   "metadata": {},
   "source": [
    "## Section 1: PoRep and CommD/CommR Simulation"
   ]
  },
  {
   "cell_type": "code",
   "execution_count": null,
   "id": "83b8ce0d",
   "metadata": {},
   "outputs": [
    {
     "name": "stdout",
     "output_type": "stream",
     "text": [
      "Requirement already satisfied: pycryptodome in c:\\users\\jliu0\\anaconda3\\lib\\site-packages (3.22.0)\n",
      "Requirement already satisfied: networkx in c:\\users\\jliu0\\anaconda3\\lib\\site-packages (3.3)\n"
     ]
    }
   ],
   "source": [
    "%pip install pycryptodome networkx"
   ]
  },
  {
   "cell_type": "code",
   "execution_count": 14,
   "id": "36148f1b",
   "metadata": {},
   "outputs": [],
   "source": [
    "import hashlib\n",
    "import json\n",
    "import os\n",
    "import time\n",
    "import pandas as pd\n",
    "import networkx as nx\n",
    "import matplotlib.pyplot as plt\n",
    "from datetime import datetime, timezone\n",
    "from Crypto.Cipher import AES\n",
    "from Crypto.Util import Counter\n",
    "\n",
    "SECTOR_SIZE = 2048\n",
    "CHUNK_SIZE = 127\n",
    "DATA_DIR = \"filecoin_sim_full\"\n",
    "REPLICA_DIR = os.path.join(DATA_DIR, \"replicas\")\n",
    "ORIGINAL_FILE = os.path.join(DATA_DIR, \"original_file.txt\")\n",
    "os.makedirs(REPLICA_DIR, exist_ok=True)"
   ]
  },
  {
   "cell_type": "code",
   "execution_count": 15,
   "id": "364cc20f",
   "metadata": {},
   "outputs": [],
   "source": [
    "def sha256(data: bytes) -> bytes:\n",
    "    return hashlib.sha256(data).digest()\n",
    "\n",
    "def pad_to_sector(data: bytes, size: int = SECTOR_SIZE) -> bytes:\n",
    "    return data.ljust(size, b'\\x00')\n",
    "\n",
    "def chunk_data(data: bytes, chunk_size: int = CHUNK_SIZE) -> list:\n",
    "    return [data[i:i + chunk_size] for i in range(0, len(data), chunk_size)]\n",
    "\n",
    "def merkle_root(chunks: list[bytes]) -> bytes:\n",
    "    if len(chunks) == 0:\n",
    "        return b'\\x00' * 32\n",
    "    leaves = [sha256(chunk) for chunk in chunks]\n",
    "    while len(leaves) > 1:\n",
    "        if len(leaves) % 2 != 0:\n",
    "            leaves.append(leaves[-1])\n",
    "        leaves = [sha256(leaves[i] + leaves[i+1]) for i in range(0, len(leaves), 2)]\n",
    "    return leaves[0]"
   ]
  },
  {
   "cell_type": "code",
   "execution_count": 16,
   "id": "3d890784",
   "metadata": {},
   "outputs": [],
   "source": [
    "def compute_commd(data: bytes) -> (bytes, list):\n",
    "    padded = pad_to_sector(data)\n",
    "    pieces = chunk_data(padded)\n",
    "    commp_hashes = [sha256(piece) for piece in pieces]\n",
    "    commd = merkle_root(commp_hashes)\n",
    "    return commd, pieces\n",
    "\n",
    "def encode_replica(padded_data: bytes, miner_id: str, commd: bytes) -> bytes:\n",
    "    key = sha256(miner_id.encode() + commd)[:16]\n",
    "    ctr = Counter.new(128)\n",
    "    cipher = AES.new(key, AES.MODE_CTR, counter=ctr)\n",
    "    return cipher.encrypt(padded_data)\n",
    "\n",
    "def compute_commr(replica_data: bytes) -> bytes:\n",
    "    replica_chunks = chunk_data(replica_data)\n",
    "    return merkle_root(replica_chunks)"
   ]
  },
  {
   "cell_type": "markdown",
   "id": "997db4c2",
   "metadata": {},
   "source": [
    "## Section 2: Pledging and Upgrading"
   ]
  },
  {
   "cell_type": "code",
   "execution_count": 17,
   "id": "8b2c295f",
   "metadata": {},
   "outputs": [],
   "source": [
    "def pledge_sector(miner_id: str, dummy_data: bytes):\n",
    "    commd, padded_chunks = compute_commd(dummy_data)\n",
    "    padded_data = b''.join(padded_chunks)\n",
    "    replica_data = encode_replica(padded_data, miner_id, commd)\n",
    "    commr = compute_commr(replica_data)\n",
    "    replica_path = os.path.join(REPLICA_DIR, f\"replica_pledge_{miner_id}.bin\")\n",
    "    with open(replica_path, \"wb\") as f:\n",
    "        f.write(replica_data)\n",
    "    return {\n",
    "        \"type\": \"Pledge\",\n",
    "        \"miner_id\": miner_id,\n",
    "        \"commd\": commd.hex(),\n",
    "        \"commr\": commr.hex(),\n",
    "        \"replica_path\": replica_path,\n",
    "        \"timestamp\": datetime.now(timezone.utc).isoformat()\n",
    "    }\n",
    "\n",
    "def upgrade_sector(miner_id: str, real_data: bytes):\n",
    "    commd, padded_chunks = compute_commd(real_data)\n",
    "    padded_data = b''.join(padded_chunks)\n",
    "    replica_data = encode_replica(padded_data, miner_id, commd)\n",
    "    commr = compute_commr(replica_data)\n",
    "    replica_path = os.path.join(REPLICA_DIR, f\"replica_upgrade_{miner_id}.bin\")\n",
    "    with open(replica_path, \"wb\") as f:\n",
    "        f.write(replica_data)\n",
    "    return {\n",
    "        \"type\": \"Upgrade\",\n",
    "        \"miner_id\": miner_id,\n",
    "        \"commd\": commd.hex(),\n",
    "        \"commr\": commr.hex(),\n",
    "        \"replica_path\": replica_path,\n",
    "        \"timestamp\": datetime.now(timezone.utc).isoformat()\n",
    "    }"
   ]
  },
  {
   "cell_type": "markdown",
   "id": "f9c4bba5",
   "metadata": {},
   "source": [
    "## Section 3: PoSt Simulation and Failure"
   ]
  },
  {
   "cell_type": "code",
   "execution_count": 18,
   "id": "ac14d112",
   "metadata": {},
   "outputs": [],
   "source": [
    "def simulate_post(miner_id: str, replica_path: str):\n",
    "    if not os.path.exists(replica_path):\n",
    "        return {\"type\": \"PoSt\", \"miner_id\": miner_id, \"status\": \"Failure\", \"reason\": \"Replica missing\", \"timestamp\": datetime.now(timezone.utc).isoformat()}\n",
    "    with open(replica_path, \"rb\") as f:\n",
    "        replica = f.read()\n",
    "    proof = sha256(replica + str(time.time()).encode()).hex()\n",
    "    return {\n",
    "        \"type\": \"PoSt\",\n",
    "        \"miner_id\": miner_id,\n",
    "        \"status\": \"Success\",\n",
    "        \"proof\": proof,\n",
    "        \"timestamp\": datetime.now(timezone.utc).isoformat(),\n",
    "        \"proof_type\": \"WinningPoSt2KiB\",\n",
    "        \"challenged_sectors\": [\"<sector_id>\"]\n",
    "    }"
   ]
  },
  {
   "cell_type": "code",
   "execution_count": 19,
   "id": "ec5f0c37",
   "metadata": {},
   "outputs": [
    {
     "name": "stdout",
     "output_type": "stream",
     "text": [
      "Pledge Result:\n"
     ]
    },
    {
     "data": {
      "text/html": [
       "<div>\n",
       "<style scoped>\n",
       "    .dataframe tbody tr th:only-of-type {\n",
       "        vertical-align: middle;\n",
       "    }\n",
       "\n",
       "    .dataframe tbody tr th {\n",
       "        vertical-align: top;\n",
       "    }\n",
       "\n",
       "    .dataframe thead th {\n",
       "        text-align: right;\n",
       "    }\n",
       "</style>\n",
       "<table border=\"1\" class=\"dataframe\">\n",
       "  <thead>\n",
       "    <tr style=\"text-align: right;\">\n",
       "      <th></th>\n",
       "      <th>type</th>\n",
       "      <th>miner_id</th>\n",
       "      <th>commd</th>\n",
       "      <th>commr</th>\n",
       "      <th>replica_path</th>\n",
       "      <th>timestamp</th>\n",
       "    </tr>\n",
       "  </thead>\n",
       "  <tbody>\n",
       "    <tr>\n",
       "      <th>0</th>\n",
       "      <td>Pledge</td>\n",
       "      <td>miner_alpha</td>\n",
       "      <td>af809febd21e7307950f096a017b44419bda7e210bba93...</td>\n",
       "      <td>0cb3b218681ec3f20016ba912b99064d25aa8bddf2005e...</td>\n",
       "      <td>filecoin_sim_full\\replicas\\replica_pledge_mine...</td>\n",
       "      <td>2025-05-07T13:51:08.377869+00:00</td>\n",
       "    </tr>\n",
       "  </tbody>\n",
       "</table>\n",
       "</div>"
      ],
      "text/plain": [
       "     type     miner_id                                              commd  \\\n",
       "0  Pledge  miner_alpha  af809febd21e7307950f096a017b44419bda7e210bba93...   \n",
       "\n",
       "                                               commr  \\\n",
       "0  0cb3b218681ec3f20016ba912b99064d25aa8bddf2005e...   \n",
       "\n",
       "                                        replica_path  \\\n",
       "0  filecoin_sim_full\\replicas\\replica_pledge_mine...   \n",
       "\n",
       "                          timestamp  \n",
       "0  2025-05-07T13:51:08.377869+00:00  "
      ]
     },
     "metadata": {},
     "output_type": "display_data"
    },
    {
     "name": "stdout",
     "output_type": "stream",
     "text": [
      "Upgrade Result:\n"
     ]
    },
    {
     "data": {
      "text/html": [
       "<div>\n",
       "<style scoped>\n",
       "    .dataframe tbody tr th:only-of-type {\n",
       "        vertical-align: middle;\n",
       "    }\n",
       "\n",
       "    .dataframe tbody tr th {\n",
       "        vertical-align: top;\n",
       "    }\n",
       "\n",
       "    .dataframe thead th {\n",
       "        text-align: right;\n",
       "    }\n",
       "</style>\n",
       "<table border=\"1\" class=\"dataframe\">\n",
       "  <thead>\n",
       "    <tr style=\"text-align: right;\">\n",
       "      <th></th>\n",
       "      <th>type</th>\n",
       "      <th>miner_id</th>\n",
       "      <th>commd</th>\n",
       "      <th>commr</th>\n",
       "      <th>replica_path</th>\n",
       "      <th>timestamp</th>\n",
       "    </tr>\n",
       "  </thead>\n",
       "  <tbody>\n",
       "    <tr>\n",
       "      <th>0</th>\n",
       "      <td>Upgrade</td>\n",
       "      <td>miner_alpha</td>\n",
       "      <td>578593bfacb796d12f388ebdbf9e1713afaf173ab8ac7c...</td>\n",
       "      <td>e75c04684f427850cb5530fc0b5c8606d94164217b3b2a...</td>\n",
       "      <td>filecoin_sim_full\\replicas\\replica_upgrade_min...</td>\n",
       "      <td>2025-05-07T13:51:08.381306+00:00</td>\n",
       "    </tr>\n",
       "  </tbody>\n",
       "</table>\n",
       "</div>"
      ],
      "text/plain": [
       "      type     miner_id                                              commd  \\\n",
       "0  Upgrade  miner_alpha  578593bfacb796d12f388ebdbf9e1713afaf173ab8ac7c...   \n",
       "\n",
       "                                               commr  \\\n",
       "0  e75c04684f427850cb5530fc0b5c8606d94164217b3b2a...   \n",
       "\n",
       "                                        replica_path  \\\n",
       "0  filecoin_sim_full\\replicas\\replica_upgrade_min...   \n",
       "\n",
       "                          timestamp  \n",
       "0  2025-05-07T13:51:08.381306+00:00  "
      ]
     },
     "metadata": {},
     "output_type": "display_data"
    },
    {
     "name": "stdout",
     "output_type": "stream",
     "text": [
      "PoSt Results:\n"
     ]
    },
    {
     "data": {
      "text/html": [
       "<div>\n",
       "<style scoped>\n",
       "    .dataframe tbody tr th:only-of-type {\n",
       "        vertical-align: middle;\n",
       "    }\n",
       "\n",
       "    .dataframe tbody tr th {\n",
       "        vertical-align: top;\n",
       "    }\n",
       "\n",
       "    .dataframe thead th {\n",
       "        text-align: right;\n",
       "    }\n",
       "</style>\n",
       "<table border=\"1\" class=\"dataframe\">\n",
       "  <thead>\n",
       "    <tr style=\"text-align: right;\">\n",
       "      <th></th>\n",
       "      <th>type</th>\n",
       "      <th>miner_id</th>\n",
       "      <th>status</th>\n",
       "      <th>proof</th>\n",
       "      <th>timestamp</th>\n",
       "      <th>proof_type</th>\n",
       "      <th>challenged_sectors</th>\n",
       "      <th>reason</th>\n",
       "    </tr>\n",
       "  </thead>\n",
       "  <tbody>\n",
       "    <tr>\n",
       "      <th>0</th>\n",
       "      <td>PoSt</td>\n",
       "      <td>miner_alpha</td>\n",
       "      <td>Success</td>\n",
       "      <td>1cac399d5164a500c01efc5edcf067b5aaa8f8779ceb62...</td>\n",
       "      <td>2025-05-07T13:51:08.382391+00:00</td>\n",
       "      <td>WinningPoSt2KiB</td>\n",
       "      <td>[&lt;sector_id&gt;]</td>\n",
       "      <td>NaN</td>\n",
       "    </tr>\n",
       "    <tr>\n",
       "      <th>1</th>\n",
       "      <td>PoSt</td>\n",
       "      <td>miner_alpha</td>\n",
       "      <td>Success</td>\n",
       "      <td>85a044fa8b09eab10eb7a6249d3590d40b4a05e64277de...</td>\n",
       "      <td>2025-05-07T13:51:09.383197+00:00</td>\n",
       "      <td>WinningPoSt2KiB</td>\n",
       "      <td>[&lt;sector_id&gt;]</td>\n",
       "      <td>NaN</td>\n",
       "    </tr>\n",
       "    <tr>\n",
       "      <th>2</th>\n",
       "      <td>PoSt</td>\n",
       "      <td>miner_alpha</td>\n",
       "      <td>Success</td>\n",
       "      <td>711fcf7521da7b46c5ed2481044cce8ff9cba41da65436...</td>\n",
       "      <td>2025-05-07T13:51:10.383649+00:00</td>\n",
       "      <td>WinningPoSt2KiB</td>\n",
       "      <td>[&lt;sector_id&gt;]</td>\n",
       "      <td>NaN</td>\n",
       "    </tr>\n",
       "    <tr>\n",
       "      <th>3</th>\n",
       "      <td>PoSt</td>\n",
       "      <td>miner_alpha</td>\n",
       "      <td>Failure</td>\n",
       "      <td>NaN</td>\n",
       "      <td>2025-05-07T13:51:11.385185+00:00</td>\n",
       "      <td>NaN</td>\n",
       "      <td>NaN</td>\n",
       "      <td>Replica missing</td>\n",
       "    </tr>\n",
       "  </tbody>\n",
       "</table>\n",
       "</div>"
      ],
      "text/plain": [
       "   type     miner_id   status  \\\n",
       "0  PoSt  miner_alpha  Success   \n",
       "1  PoSt  miner_alpha  Success   \n",
       "2  PoSt  miner_alpha  Success   \n",
       "3  PoSt  miner_alpha  Failure   \n",
       "\n",
       "                                               proof  \\\n",
       "0  1cac399d5164a500c01efc5edcf067b5aaa8f8779ceb62...   \n",
       "1  85a044fa8b09eab10eb7a6249d3590d40b4a05e64277de...   \n",
       "2  711fcf7521da7b46c5ed2481044cce8ff9cba41da65436...   \n",
       "3                                                NaN   \n",
       "\n",
       "                          timestamp       proof_type challenged_sectors  \\\n",
       "0  2025-05-07T13:51:08.382391+00:00  WinningPoSt2KiB      [<sector_id>]   \n",
       "1  2025-05-07T13:51:09.383197+00:00  WinningPoSt2KiB      [<sector_id>]   \n",
       "2  2025-05-07T13:51:10.383649+00:00  WinningPoSt2KiB      [<sector_id>]   \n",
       "3  2025-05-07T13:51:11.385185+00:00              NaN                NaN   \n",
       "\n",
       "            reason  \n",
       "0              NaN  \n",
       "1              NaN  \n",
       "2              NaN  \n",
       "3  Replica missing  "
      ]
     },
     "metadata": {},
     "output_type": "display_data"
    }
   ],
   "source": [
    "with open(ORIGINAL_FILE, \"wb\") as f:\n",
    "    f.write(b\"This is real data to be used in upgrade. \" * 40)\n",
    "\n",
    "miner_id = \"miner_alpha\"\n",
    "dummy_data = b\"0\" * SECTOR_SIZE\n",
    "pledge_result = pledge_sector(miner_id, dummy_data)\n",
    "\n",
    "with open(ORIGINAL_FILE, \"rb\") as f:\n",
    "    real_data = f.read()\n",
    "upgrade_result = upgrade_sector(miner_id, real_data)\n",
    "\n",
    "post_results = []\n",
    "for i in range(3):\n",
    "    post_results.append(simulate_post(miner_id, upgrade_result[\"replica_path\"]))\n",
    "    time.sleep(1)\n",
    "\n",
    "os.remove(upgrade_result[\"replica_path\"])\n",
    "post_results.append(simulate_post(miner_id, upgrade_result[\"replica_path\"]))\n",
    "\n",
    "print(\"Pledge Result:\")\n",
    "display(pd.DataFrame([pledge_result]))\n",
    "print(\"Upgrade Result:\")\n",
    "display(pd.DataFrame([upgrade_result]))\n",
    "print(\"PoSt Results:\")\n",
    "display(pd.DataFrame(post_results))"
   ]
  },
  {
   "cell_type": "markdown",
   "id": "c848dd21",
   "metadata": {},
   "source": [
    "## Section 4: Simulated Filecoin Sealing Pipeline with DRG"
   ]
  },
  {
   "cell_type": "code",
   "execution_count": 20,
   "id": "96c3ac05",
   "metadata": {},
   "outputs": [],
   "source": [
    "def generate_drg_graph(n_nodes=32, expansion_degree=2):\n",
    "    G = nx.DiGraph()\n",
    "    for i in range(n_nodes):\n",
    "        G.add_node(i)\n",
    "        for j in range(1, expansion_degree + 1):\n",
    "            if i - j >= 0:\n",
    "                G.add_edge(i - j, i)\n",
    "    return G"
   ]
  },
  {
   "cell_type": "code",
   "execution_count": 21,
   "id": "c7ab87cd",
   "metadata": {},
   "outputs": [],
   "source": [
    "def precommit1(data: bytes, miner_id: str):\n",
    "    padded = data.ljust(SECTOR_SIZE, b'\\x00')\n",
    "    graph = generate_drg_graph()\n",
    "    metadata = {\n",
    "        \"miner_id\": miner_id,\n",
    "        \"padded_length\": len(padded),\n",
    "        \"graph_nodes\": graph.number_of_nodes(),\n",
    "        \"graph_edges\": graph.number_of_edges(),\n",
    "        \"timestamp\": datetime.now(timezone.utc).isoformat()\n",
    "    }\n",
    "    return padded, graph, metadata"
   ]
  },
  {
   "cell_type": "code",
   "execution_count": 22,
   "id": "d84ab2b7",
   "metadata": {},
   "outputs": [],
   "source": [
    "def precommit2(padded_data: bytes, miner_id: str):\n",
    "    commd = sha256(padded_data)\n",
    "    key = sha256(miner_id.encode() + commd)[:16]\n",
    "    ctr = Counter.new(128)\n",
    "    cipher = AES.new(key, AES.MODE_CTR, counter=ctr)\n",
    "    replica_data = cipher.encrypt(padded_data)\n",
    "    commr = sha256(replica_data)\n",
    "    return commd.hex(), commr.hex(), replica_data"
   ]
  },
  {
   "cell_type": "code",
   "execution_count": 23,
   "id": "c59f50fa",
   "metadata": {},
   "outputs": [],
   "source": [
    "def commit1(miner_id: str):\n",
    "    ticket = sha256(f\"{miner_id}-ticket\".encode()).hex()\n",
    "    seed = sha256(f\"{miner_id}-seed\".encode()).hex()\n",
    "    challenge = sha256((ticket + seed).encode()).hex()\n",
    "    proof_blob = f\"proof({challenge[:16]})\"\n",
    "    return ticket, seed, challenge, proof_blob\n",
    "\n",
    "def commit2(proof_blob: str):\n",
    "    final_proof = sha256(proof_blob.encode()).hex()\n",
    "    return final_proof"
   ]
  },
  {
   "cell_type": "code",
   "execution_count": 24,
   "id": "dd7cb3d5",
   "metadata": {},
   "outputs": [
    {
     "data": {
      "image/png": "[encoded data removed]",
      "text/plain": [
       "<Figure size 640x480 with 1 Axes>"
      ]
     },
     "metadata": {},
     "output_type": "display_data"
    },
    {
     "name": "stdout",
     "output_type": "stream",
     "text": [
      "Sealing Metadata:\n"
     ]
    },
    {
     "data": {
      "text/html": [
       "<div>\n",
       "<style scoped>\n",
       "    .dataframe tbody tr th:only-of-type {\n",
       "        vertical-align: middle;\n",
       "    }\n",
       "\n",
       "    .dataframe tbody tr th {\n",
       "        vertical-align: top;\n",
       "    }\n",
       "\n",
       "    .dataframe thead th {\n",
       "        text-align: right;\n",
       "    }\n",
       "</style>\n",
       "<table border=\"1\" class=\"dataframe\">\n",
       "  <thead>\n",
       "    <tr style=\"text-align: right;\">\n",
       "      <th></th>\n",
       "      <th>miner_id</th>\n",
       "      <th>padded_length</th>\n",
       "      <th>graph_nodes</th>\n",
       "      <th>graph_edges</th>\n",
       "      <th>timestamp</th>\n",
       "    </tr>\n",
       "  </thead>\n",
       "  <tbody>\n",
       "    <tr>\n",
       "      <th>0</th>\n",
       "      <td>miner_beta</td>\n",
       "      <td>2048</td>\n",
       "      <td>32</td>\n",
       "      <td>61</td>\n",
       "      <td>2025-05-07T13:51:11.433527+00:00</td>\n",
       "    </tr>\n",
       "  </tbody>\n",
       "</table>\n",
       "</div>"
      ],
      "text/plain": [
       "     miner_id  padded_length  graph_nodes  graph_edges  \\\n",
       "0  miner_beta           2048           32           61   \n",
       "\n",
       "                          timestamp  \n",
       "0  2025-05-07T13:51:11.433527+00:00  "
      ]
     },
     "metadata": {},
     "output_type": "display_data"
    },
    {
     "name": "stdout",
     "output_type": "stream",
     "text": [
      "Commitments:\n"
     ]
    },
    {
     "data": {
      "text/html": [
       "<div>\n",
       "<style scoped>\n",
       "    .dataframe tbody tr th:only-of-type {\n",
       "        vertical-align: middle;\n",
       "    }\n",
       "\n",
       "    .dataframe tbody tr th {\n",
       "        vertical-align: top;\n",
       "    }\n",
       "\n",
       "    .dataframe thead th {\n",
       "        text-align: right;\n",
       "    }\n",
       "</style>\n",
       "<table border=\"1\" class=\"dataframe\">\n",
       "  <thead>\n",
       "    <tr style=\"text-align: right;\">\n",
       "      <th></th>\n",
       "      <th>CommD</th>\n",
       "      <th>CommR</th>\n",
       "    </tr>\n",
       "  </thead>\n",
       "  <tbody>\n",
       "    <tr>\n",
       "      <th>0</th>\n",
       "      <td>1b7bc817b5a9da690708cf7adbf914ed43a1169110b386...</td>\n",
       "      <td>4a7617b8029924b107e2788698eb55a51f03bafe7b4914...</td>\n",
       "    </tr>\n",
       "  </tbody>\n",
       "</table>\n",
       "</div>"
      ],
      "text/plain": [
       "                                               CommD  \\\n",
       "0  1b7bc817b5a9da690708cf7adbf914ed43a1169110b386...   \n",
       "\n",
       "                                               CommR  \n",
       "0  4a7617b8029924b107e2788698eb55a51f03bafe7b4914...  "
      ]
     },
     "metadata": {},
     "output_type": "display_data"
    },
    {
     "name": "stdout",
     "output_type": "stream",
     "text": [
      "Proof Steps:\n"
     ]
    },
    {
     "data": {
      "text/html": [
       "<div>\n",
       "<style scoped>\n",
       "    .dataframe tbody tr th:only-of-type {\n",
       "        vertical-align: middle;\n",
       "    }\n",
       "\n",
       "    .dataframe tbody tr th {\n",
       "        vertical-align: top;\n",
       "    }\n",
       "\n",
       "    .dataframe thead th {\n",
       "        text-align: right;\n",
       "    }\n",
       "</style>\n",
       "<table border=\"1\" class=\"dataframe\">\n",
       "  <thead>\n",
       "    <tr style=\"text-align: right;\">\n",
       "      <th></th>\n",
       "      <th>Ticket</th>\n",
       "      <th>Seed</th>\n",
       "      <th>Challenge</th>\n",
       "      <th>ProofBlob</th>\n",
       "      <th>FinalProof</th>\n",
       "    </tr>\n",
       "  </thead>\n",
       "  <tbody>\n",
       "    <tr>\n",
       "      <th>0</th>\n",
       "      <td>8b174c784a5037d0e75a67bbde52b46aca0239e5d070de...</td>\n",
       "      <td>c02dfc73bfee9bc9f5b918f880c68e563df182e9330ad9...</td>\n",
       "      <td>f7d588241ecf0c5c0a7297081af54d868e57b1d9641b9e...</td>\n",
       "      <td>proof(f7d588241ecf0c5c)</td>\n",
       "      <td>66e620ff7f9ee30bd64a7d7c744aa6520264c098e2766c...</td>\n",
       "    </tr>\n",
       "  </tbody>\n",
       "</table>\n",
       "</div>"
      ],
      "text/plain": [
       "                                              Ticket  \\\n",
       "0  8b174c784a5037d0e75a67bbde52b46aca0239e5d070de...   \n",
       "\n",
       "                                                Seed  \\\n",
       "0  c02dfc73bfee9bc9f5b918f880c68e563df182e9330ad9...   \n",
       "\n",
       "                                           Challenge                ProofBlob  \\\n",
       "0  f7d588241ecf0c5c0a7297081af54d868e57b1d9641b9e...  proof(f7d588241ecf0c5c)   \n",
       "\n",
       "                                          FinalProof  \n",
       "0  66e620ff7f9ee30bd64a7d7c744aa6520264c098e2766c...  "
      ]
     },
     "metadata": {},
     "output_type": "display_data"
    }
   ],
   "source": [
    "with open(ORIGINAL_FILE, \"rb\") as f:\n",
    "    user_data = f.read()\n",
    "\n",
    "miner_id = \"miner_beta\"\n",
    "padded_data, drg_graph, meta = precommit1(user_data, miner_id)\n",
    "commd, commr, replica_data = precommit2(padded_data, miner_id)\n",
    "ticket, seed, challenge, proof_blob = commit1(miner_id)\n",
    "final_proof = commit2(proof_blob)\n",
    "\n",
    "nx.draw(drg_graph, with_labels=True, node_size=300, font_size=8)\n",
    "plt.title(\"Simulated DRG Graph Structure\")\n",
    "plt.show()\n",
    "\n",
    "print(\"Sealing Metadata:\")\n",
    "display(pd.DataFrame([meta]))\n",
    "print(\"Commitments:\")\n",
    "display(pd.DataFrame([{\"CommD\": commd, \"CommR\": commr}]))\n",
    "print(\"Proof Steps:\")\n",
    "display(pd.DataFrame([{\n",
    "    \"Ticket\": ticket,\n",
    "    \"Seed\": seed,\n",
    "    \"Challenge\": challenge,\n",
    "    \"ProofBlob\": proof_blob,\n",
    "    \"FinalProof\": final_proof\n",
    "}]))"
   ]
  }
 ],
 "metadata": {
  "language_info": {
   "name": "python"
  }
 },
 "nbformat": 4,
 "nbformat_minor": 5
}
